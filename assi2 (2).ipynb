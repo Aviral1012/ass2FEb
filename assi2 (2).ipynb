{
 "cells": [
  {
   "cell_type": "code",
   "execution_count": 15,
   "id": "249c0f71-1c81-444b-bc12-6f0acbe31cd6",
   "metadata": {},
   "outputs": [
    {
     "name": "stdout",
     "output_type": "stream",
     "text": [
      "Aviral\n",
      "Aviral\n",
      "Aviral\n",
      "Aviral\n",
      "Aviral\n",
      "Aviral\n",
      "Aviral\n",
      "Aviral\n",
      "Aviral\n",
      "Aviral\n"
     ]
    },
    {
     "name": "stdin",
     "output_type": "stream",
     "text": [
      "enter the name avi123\n"
     ]
    },
    {
     "name": "stdout",
     "output_type": "stream",
     "text": [
      "name can not be integer\n"
     ]
    },
    {
     "name": "stdin",
     "output_type": "stream",
     "text": [
      "enter the name aviral\n"
     ]
    },
    {
     "name": "stdout",
     "output_type": "stream",
     "text": [
      "name= aviral\n"
     ]
    }
   ],
   "source": [
    "                                                         #SOLUTION 1: \n",
    "#printing \"Aviral\" 10 Times\n",
    "name=\"Aviral\"\n",
    "for i in range(10):\n",
    "    print(name)  #Here we know the number of itteration that's why we use FOR LOOP    \n",
    "# print the user given name  if its name contain alphabet then exit otherwise continue\n",
    "while True:\n",
    "    name=input(\"enter the name\")\n",
    "    if name.isalpha():\n",
    "        print(\"name=\",name)\n",
    "        break\n",
    "    else: \n",
    "        print(\"name can not be integer\")\n",
    "        continue  # here we know the Termination condition that's why we use WHILE LOOP    "
   ]
  },
  {
   "cell_type": "code",
   "execution_count": 9,
   "id": "e7ab0f9f-ea4d-4287-978f-f23b6e495ef1",
   "metadata": {},
   "outputs": [
    {
     "name": "stdout",
     "output_type": "stream",
     "text": [
      "sum is= 55 , product is= 3628800\n"
     ]
    }
   ],
   "source": [
    "                                                        #SOLUTION 2:\n",
    "# sum and product of first 10 Natural Number\n",
    "sum=0\n",
    "prd=1\n",
    "for i in range(1,11): \n",
    "     sum=sum+i\n",
    "     prd=prd*i\n",
    "print(\"sum is=\",sum,\",\",\"product is=\",prd)        "
   ]
  },
  {
   "cell_type": "code",
   "execution_count": 5,
   "id": "40d5011d-cf39-4d36-a314-c82d2dcd14f4",
   "metadata": {},
   "outputs": [
    {
     "name": "stdin",
     "output_type": "stream",
     "text": [
      "enter the Number of unit 310\n"
     ]
    },
    {
     "name": "stdout",
     "output_type": "stream",
     "text": [
      "charges is= 2250\n"
     ]
    }
   ],
   "source": [
    "                                                       #SOLUTION 3:\n",
    "n=int(input(\"enter the Number of unit\"))\n",
    "\n",
    "if n <=100:\n",
    "    print(\"charges is=\",n*4.5)\n",
    "elif n>100 and n<=200: \n",
    "    print(\"charges is=\",450+(n-100)*6)\n",
    "elif n >200 and n<=300: \n",
    "    print(\"charges is=\",1050+(n-200)*10)\n",
    "else: \n",
    "    print(\"charges is=\",2050+(n-300)*20) "
   ]
  },
  {
   "cell_type": "code",
   "execution_count": 11,
   "id": "c6dfc110-0704-4789-9fb6-6b946106e2c7",
   "metadata": {},
   "outputs": [
    {
     "name": "stdout",
     "output_type": "stream",
     "text": [
      "[2, 4, 5, 6, 8, 10, 12, 14, 15, 16, 18, 20, 22, 24, 25, 26, 28, 30, 32, 34, 35, 36, 38, 40, 42, 44, 45, 46, 48, 50, 52, 54, 55, 56, 58, 60, 62, 64, 65, 66, 68, 70, 72, 74, 75, 76, 78, 80, 82, 84, 85, 86, 88, 90, 92, 94, 95, 96, 98, 100]\n"
     ]
    }
   ],
   "source": [
    "                                                    #SOLUTION 4:\n",
    "#Using for loop \n",
    "\n",
    "l=[]\n",
    "for i in range(1,101):\n",
    "    j=i*i*i\n",
    "    if j%4==0 or j%5==0:\n",
    "        l.append(i)\n",
    "print(l)    "
   ]
  },
  {
   "cell_type": "code",
   "execution_count": 12,
   "id": "a67e64c5-3d54-460a-937e-1f921dee6b13",
   "metadata": {},
   "outputs": [
    {
     "name": "stdout",
     "output_type": "stream",
     "text": [
      "[2, 4, 5, 6, 8, 10, 12, 14, 15, 16, 18, 20, 22, 24, 25, 26, 28, 30, 32, 34, 35, 36, 38, 40, 42, 44, 45, 46, 48, 50, 52, 54, 55, 56, 58, 60, 62, 64, 65, 66, 68, 70, 72, 74, 75, 76, 78, 80, 82, 84, 85, 86, 88, 90, 92, 94, 95, 96, 98, 100]\n"
     ]
    }
   ],
   "source": [
    "                                                   #SOLUTION 4:\n",
    "#Using While Loop\n",
    "l=[]\n",
    "i=1\n",
    "while i<=100:\n",
    "    j=i*i*i\n",
    "    if j%4==0 or j%5==0:\n",
    "       l.append(i)\n",
    "    i=i+1\n",
    "print(l)     \n",
    "    \n",
    "       "
   ]
  },
  {
   "cell_type": "code",
   "execution_count": 13,
   "id": "34cf5bdd-cf58-4437-a0ee-ec0f3d2706b5",
   "metadata": {},
   "outputs": [
    {
     "name": "stdout",
     "output_type": "stream",
     "text": [
      "12\n"
     ]
    }
   ],
   "source": [
    "                                                   #SOLUTION 5:\n",
    "#counting number of vowels vowels\n",
    "string=\"I want to become a data scientist\"\n",
    "str_lwr=string.lower()\n",
    "vowel=\"aeiou\"\n",
    "count=0\n",
    "for i in st:\n",
    "    if i in vowel:\n",
    "        count=count+1\n",
    "print(count)        "
   ]
  },
  {
   "cell_type": "code",
   "execution_count": null,
   "id": "4cec9c7b-1358-442f-a122-7ea8b577213b",
   "metadata": {},
   "outputs": [],
   "source": []
  }
 ],
 "metadata": {
  "kernelspec": {
   "display_name": "Python 3 (ipykernel)",
   "language": "python",
   "name": "python3"
  },
  "language_info": {
   "codemirror_mode": {
    "name": "ipython",
    "version": 3
   },
   "file_extension": ".py",
   "mimetype": "text/x-python",
   "name": "python",
   "nbconvert_exporter": "python",
   "pygments_lexer": "ipython3",
   "version": "3.10.6"
  }
 },
 "nbformat": 4,
 "nbformat_minor": 5
}
